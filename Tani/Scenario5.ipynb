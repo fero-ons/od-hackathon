{
 "cells": [
  {
   "cell_type": "code",
   "execution_count": null,
   "metadata": {},
   "outputs": [],
   "source": [
    "%load_ext autoreload\n",
    "%autoreload 2\n",
    "\n",
    "DATA_FOLDER = '/home/azuredwp08/data/haystack/'\n",
    "\n",
    "import pandas as pd\n",
    "import pandas_profiling as pdp\n",
    "import matplotlib.pyplot as plt\n",
    "\n",
    "pd.set_option('display.max_columns', 150)\n",
    "\n",
    "df = pd.read_csv(DATA_FOLDER + 'scenario1/haystack_device.csv')\n",
    "df['date'] = pd.to_datetime(df['date'], format='%m/%d/%Y %H:%M:%S')\n",
    "df['ft_count'] = df['file_tree'].apply(lambda r: len(r.split(';')) if pd.notnull(r) else 0)\n",
    "device_df = df\n",
    "\n",
    "df = pd.read_csv(DATA_FOLDER + 'scenario1/haystack_email.csv', nrows=30000)\n",
    "df['date'] = pd.to_datetime(df['date'], format='%m/%d/%Y %H:%M:%S')\n",
    "email_df = df\n",
    "\n",
    "df = pd.read_csv(DATA_FOLDER + 'scenario1/haystack_psychometric.csv', nrows=10000)\n",
    "df['user'] = df['user_id']\n",
    "# df['date'] = pd.to_datetime(df['date'], format='%m/%d/%Y %H:%M:%S')\n",
    "psycho_df = df\n",
    "df.head()"
   ]
  }
 ],
 "metadata": {
  "kernelspec": {
   "display_name": "Python 3",
   "language": "python",
   "name": "python3"
  },
  "language_info": {
   "codemirror_mode": {
    "name": "ipython",
    "version": 3
   },
   "file_extension": ".py",
   "mimetype": "text/x-python",
   "name": "python",
   "nbconvert_exporter": "python",
   "pygments_lexer": "ipython3",
   "version": "3.5.5"
  }
 },
 "nbformat": 4,
 "nbformat_minor": 2
}
