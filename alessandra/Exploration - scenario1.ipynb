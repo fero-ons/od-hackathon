{
 "cells": [
  {
   "cell_type": "code",
   "execution_count": 76,
   "metadata": {},
   "outputs": [],
   "source": [
    "import pandas as pd\n",
    "import matplotlib.pyplot as plt\n",
    "import seaborn as sns\n",
    "import numpy as np\n",
    "%matplotlib inline"
   ]
  },
  {
   "cell_type": "code",
   "execution_count": 51,
   "metadata": {},
   "outputs": [],
   "source": [
    "import os\n",
    "os.chdir('/data/home/azuredwp08/data/haystack/scenario1')"
   ]
  },
  {
   "cell_type": "code",
   "execution_count": 52,
   "metadata": {},
   "outputs": [
    {
     "name": "stdout",
     "output_type": "stream",
     "text": [
      "<class 'pandas.core.frame.DataFrame'>\n",
      "RangeIndex: 37498 entries, 0 to 37497\n",
      "Data columns (total 6 columns):\n",
      "activity     37498 non-null object\n",
      "date         37498 non-null object\n",
      "file_tree    17466 non-null object\n",
      "id           37498 non-null object\n",
      "pc           37498 non-null object\n",
      "user         37498 non-null object\n",
      "dtypes: object(6)\n",
      "memory usage: 1.7+ MB\n"
     ]
    }
   ],
   "source": [
    "device = pd.read_csv('haystack_device.csv')\n",
    "device.info()"
   ]
  },
  {
   "cell_type": "code",
   "execution_count": 53,
   "metadata": {},
   "outputs": [
    {
     "name": "stdout",
     "output_type": "stream",
     "text": [
      "<class 'pandas.core.frame.DataFrame'>\n",
      "RangeIndex: 538 entries, 0 to 537\n",
      "Data columns (total 7 columns):\n",
      "employee_name    538 non-null object\n",
      "user_id          538 non-null object\n",
      "O                538 non-null int64\n",
      "C                538 non-null int64\n",
      "E                538 non-null int64\n",
      "A                538 non-null int64\n",
      "N                538 non-null int64\n",
      "dtypes: int64(5), object(2)\n",
      "memory usage: 29.5+ KB\n"
     ]
    }
   ],
   "source": [
    "psychometric = pd.read_csv('haystack_psychometric.csv')\n",
    "psychometric.info()"
   ]
  },
  {
   "cell_type": "code",
   "execution_count": 54,
   "metadata": {},
   "outputs": [
    {
     "name": "stdout",
     "output_type": "stream",
     "text": [
      "<class 'pandas.core.frame.DataFrame'>\n",
      "RangeIndex: 451030 entries, 0 to 451029\n",
      "Data columns (total 5 columns):\n",
      "id          451030 non-null object\n",
      "date        451030 non-null object\n",
      "user        451030 non-null object\n",
      "pc          451030 non-null object\n",
      "activity    451030 non-null object\n",
      "dtypes: object(5)\n",
      "memory usage: 17.2+ MB\n"
     ]
    }
   ],
   "source": [
    "logon = pd.read_csv('haystack_logon.csv')\n",
    "logon.info()"
   ]
  },
  {
   "cell_type": "code",
   "execution_count": 55,
   "metadata": {},
   "outputs": [
    {
     "name": "stdout",
     "output_type": "stream",
     "text": [
      "<class 'pandas.core.frame.DataFrame'>\n",
      "RangeIndex: 60463 entries, 0 to 60462\n",
      "Data columns (total 9 columns):\n",
      "activity                56033 non-null object\n",
      "content                 60463 non-null object\n",
      "date                    60463 non-null object\n",
      "filename                60463 non-null object\n",
      "from_removable_media    56033 non-null object\n",
      "id                      60463 non-null object\n",
      "pc                      60463 non-null object\n",
      "to_removable_media      56033 non-null object\n",
      "user                    60463 non-null object\n",
      "dtypes: object(9)\n",
      "memory usage: 4.2+ MB\n"
     ]
    }
   ],
   "source": [
    "h_file = pd.read_csv('haystack_file.csv')\n",
    "h_file.info()"
   ]
  },
  {
   "cell_type": "code",
   "execution_count": 56,
   "metadata": {},
   "outputs": [
    {
     "name": "stdout",
     "output_type": "stream",
     "text": [
      "<class 'pandas.core.frame.DataFrame'>\n",
      "RangeIndex: 5135558 entries, 0 to 5135557\n",
      "Data columns (total 12 columns):\n",
      "activity       object\n",
      "attachments    object\n",
      "bcc            object\n",
      "cc             object\n",
      "content        object\n",
      "date           object\n",
      "from           object\n",
      "id             object\n",
      "pc             object\n",
      "size           int64\n",
      "to             object\n",
      "user           object\n",
      "dtypes: int64(1), object(11)\n",
      "memory usage: 470.2+ MB\n"
     ]
    }
   ],
   "source": [
    "email = pd.read_csv('haystack_email.csv')\n",
    "email.info()"
   ]
  },
  {
   "cell_type": "code",
   "execution_count": 57,
   "metadata": {},
   "outputs": [
    {
     "data": {
      "text/html": [
       "<div>\n",
       "<style scoped>\n",
       "    .dataframe tbody tr th:only-of-type {\n",
       "        vertical-align: middle;\n",
       "    }\n",
       "\n",
       "    .dataframe tbody tr th {\n",
       "        vertical-align: top;\n",
       "    }\n",
       "\n",
       "    .dataframe thead th {\n",
       "        text-align: right;\n",
       "    }\n",
       "</style>\n",
       "<table border=\"1\" class=\"dataframe\">\n",
       "  <thead>\n",
       "    <tr style=\"text-align: right;\">\n",
       "      <th></th>\n",
       "      <th>activity</th>\n",
       "      <th>attachments</th>\n",
       "      <th>bcc</th>\n",
       "      <th>cc</th>\n",
       "      <th>content</th>\n",
       "      <th>date</th>\n",
       "      <th>from</th>\n",
       "      <th>id</th>\n",
       "      <th>pc</th>\n",
       "      <th>size</th>\n",
       "      <th>to</th>\n",
       "      <th>user</th>\n",
       "    </tr>\n",
       "  </thead>\n",
       "  <tbody>\n",
       "    <tr>\n",
       "      <th>5135553</th>\n",
       "      <td>Receive</td>\n",
       "      <td>NaN</td>\n",
       "      <td>NaN</td>\n",
       "      <td>Kirsten.Carol.Lambert@dtaa.com</td>\n",
       "      <td>coined each box following ernest dissected ser...</td>\n",
       "      <td>01/27/2010 18:43:51</td>\n",
       "      <td>Ruth.Priscilla.Mercer@dtaa.com</td>\n",
       "      <td>{T5E8-A4ZO11HY-1068OBTM}</td>\n",
       "      <td>PC-9233</td>\n",
       "      <td>24428</td>\n",
       "      <td>Keith.Lewis.George@dtaa.com;Kelly.Portia.Mack@...</td>\n",
       "      <td>KPM0579</td>\n",
       "    </tr>\n",
       "    <tr>\n",
       "      <th>5135554</th>\n",
       "      <td>Send</td>\n",
       "      <td>NaN</td>\n",
       "      <td>NaN</td>\n",
       "      <td>NaN</td>\n",
       "      <td>The rocks that make up Mount Cayley were said ...</td>\n",
       "      <td>04/30/2010 13:49:28</td>\n",
       "      <td>Kendall_Hunter@cox.net</td>\n",
       "      <td>{S0M3-Y3CT20EK-6985ZFIP}</td>\n",
       "      <td>PC-3212</td>\n",
       "      <td>14976</td>\n",
       "      <td>Guerra-Dillon@sbcglobal.net</td>\n",
       "      <td>KGH0147</td>\n",
       "    </tr>\n",
       "    <tr>\n",
       "      <th>5135555</th>\n",
       "      <td>View</td>\n",
       "      <td>NaN</td>\n",
       "      <td>NaN</td>\n",
       "      <td>NaN</td>\n",
       "      <td>This portion extends from Birch Road to the to...</td>\n",
       "      <td>10/20/2010 18:00:02</td>\n",
       "      <td>Nerea.Gloria.Taylor@dtaa.com</td>\n",
       "      <td>{G1F3-L9CI38VY-2217OBPW}</td>\n",
       "      <td>PC-6882</td>\n",
       "      <td>37244</td>\n",
       "      <td>Philip.Cameron.Todd@dtaa.com;Victor.Brady.Cars...</td>\n",
       "      <td>VBC3689</td>\n",
       "    </tr>\n",
       "    <tr>\n",
       "      <th>5135556</th>\n",
       "      <td>Receive</td>\n",
       "      <td>survive.jpg(899205)</td>\n",
       "      <td>NaN</td>\n",
       "      <td>Karleigh.Chantale.Fowler@dtaa.com</td>\n",
       "      <td>influence thus art evident magnitude maintaini...</td>\n",
       "      <td>04/27/2010 16:03:09</td>\n",
       "      <td>Oscar.Tad.Evans@dtaa.com</td>\n",
       "      <td>{Q2X8-P3KD67KV-9585OJZW}</td>\n",
       "      <td>PC-0530</td>\n",
       "      <td>911372</td>\n",
       "      <td>Denise.Lucy.Mercado@dtaa.com;Irene.Raya.Moran@...</td>\n",
       "      <td>IRM0766</td>\n",
       "    </tr>\n",
       "    <tr>\n",
       "      <th>5135557</th>\n",
       "      <td>View</td>\n",
       "      <td>NaN</td>\n",
       "      <td>NaN</td>\n",
       "      <td>Marshall.G.Reese@optonline.net;Althea.R.Love@s...</td>\n",
       "      <td>Meanwhile Voller begins to feel ill from the e...</td>\n",
       "      <td>01/27/2010 15:46:58</td>\n",
       "      <td>Denise_J_Cantu@earthlink.net</td>\n",
       "      <td>{D5W8-G2MQ29DN-2093IGDW}</td>\n",
       "      <td>PC-4305</td>\n",
       "      <td>39365</td>\n",
       "      <td>Ball-Malcolm@netzero.com</td>\n",
       "      <td>MGR0101</td>\n",
       "    </tr>\n",
       "  </tbody>\n",
       "</table>\n",
       "</div>"
      ],
      "text/plain": [
       "        activity          attachments  bcc  \\\n",
       "5135553  Receive                  NaN  NaN   \n",
       "5135554     Send                  NaN  NaN   \n",
       "5135555     View                  NaN  NaN   \n",
       "5135556  Receive  survive.jpg(899205)  NaN   \n",
       "5135557     View                  NaN  NaN   \n",
       "\n",
       "                                                        cc  \\\n",
       "5135553                     Kirsten.Carol.Lambert@dtaa.com   \n",
       "5135554                                                NaN   \n",
       "5135555                                                NaN   \n",
       "5135556                  Karleigh.Chantale.Fowler@dtaa.com   \n",
       "5135557  Marshall.G.Reese@optonline.net;Althea.R.Love@s...   \n",
       "\n",
       "                                                   content  \\\n",
       "5135553  coined each box following ernest dissected ser...   \n",
       "5135554  The rocks that make up Mount Cayley were said ...   \n",
       "5135555  This portion extends from Birch Road to the to...   \n",
       "5135556  influence thus art evident magnitude maintaini...   \n",
       "5135557  Meanwhile Voller begins to feel ill from the e...   \n",
       "\n",
       "                        date                            from  \\\n",
       "5135553  01/27/2010 18:43:51  Ruth.Priscilla.Mercer@dtaa.com   \n",
       "5135554  04/30/2010 13:49:28          Kendall_Hunter@cox.net   \n",
       "5135555  10/20/2010 18:00:02    Nerea.Gloria.Taylor@dtaa.com   \n",
       "5135556  04/27/2010 16:03:09        Oscar.Tad.Evans@dtaa.com   \n",
       "5135557  01/27/2010 15:46:58    Denise_J_Cantu@earthlink.net   \n",
       "\n",
       "                               id       pc    size  \\\n",
       "5135553  {T5E8-A4ZO11HY-1068OBTM}  PC-9233   24428   \n",
       "5135554  {S0M3-Y3CT20EK-6985ZFIP}  PC-3212   14976   \n",
       "5135555  {G1F3-L9CI38VY-2217OBPW}  PC-6882   37244   \n",
       "5135556  {Q2X8-P3KD67KV-9585OJZW}  PC-0530  911372   \n",
       "5135557  {D5W8-G2MQ29DN-2093IGDW}  PC-4305   39365   \n",
       "\n",
       "                                                        to     user  \n",
       "5135553  Keith.Lewis.George@dtaa.com;Kelly.Portia.Mack@...  KPM0579  \n",
       "5135554                        Guerra-Dillon@sbcglobal.net  KGH0147  \n",
       "5135555  Philip.Cameron.Todd@dtaa.com;Victor.Brady.Cars...  VBC3689  \n",
       "5135556  Denise.Lucy.Mercado@dtaa.com;Irene.Raya.Moran@...  IRM0766  \n",
       "5135557                           Ball-Malcolm@netzero.com  MGR0101  "
      ]
     },
     "execution_count": 57,
     "metadata": {},
     "output_type": "execute_result"
    }
   ],
   "source": [
    "email.tail()"
   ]
  },
  {
   "cell_type": "code",
   "execution_count": null,
   "metadata": {},
   "outputs": [],
   "source": []
  },
  {
   "cell_type": "markdown",
   "metadata": {},
   "source": [
    "## Devices"
   ]
  },
  {
   "cell_type": "code",
   "execution_count": 59,
   "metadata": {},
   "outputs": [
    {
     "data": {
      "text/html": [
       "<div>\n",
       "<style scoped>\n",
       "    .dataframe tbody tr th:only-of-type {\n",
       "        vertical-align: middle;\n",
       "    }\n",
       "\n",
       "    .dataframe tbody tr th {\n",
       "        vertical-align: top;\n",
       "    }\n",
       "\n",
       "    .dataframe thead th {\n",
       "        text-align: right;\n",
       "    }\n",
       "</style>\n",
       "<table border=\"1\" class=\"dataframe\">\n",
       "  <thead>\n",
       "    <tr style=\"text-align: right;\">\n",
       "      <th></th>\n",
       "      <th>activity</th>\n",
       "      <th>date</th>\n",
       "      <th>file_tree</th>\n",
       "      <th>id</th>\n",
       "      <th>pc</th>\n",
       "      <th>user</th>\n",
       "    </tr>\n",
       "  </thead>\n",
       "  <tbody>\n",
       "    <tr>\n",
       "      <th>0</th>\n",
       "      <td>Connect</td>\n",
       "      <td>06/01/2010 18:10:35</td>\n",
       "      <td>R:\\;R:\\MAL1912</td>\n",
       "      <td>{M4H6-P5FR33RV-6020CMPV}</td>\n",
       "      <td>PC-3117</td>\n",
       "      <td>MAL1912</td>\n",
       "    </tr>\n",
       "    <tr>\n",
       "      <th>1</th>\n",
       "      <td>Disconnect</td>\n",
       "      <td>07/30/2010 11:19:40</td>\n",
       "      <td>NaN</td>\n",
       "      <td>{K8G4-A7FO12TE-2893OGZJ}</td>\n",
       "      <td>PC-7078</td>\n",
       "      <td>SIH2331</td>\n",
       "    </tr>\n",
       "    <tr>\n",
       "      <th>2</th>\n",
       "      <td>Connect</td>\n",
       "      <td>03/29/2010 13:26:43</td>\n",
       "      <td>R:\\;R:\\13x1p75;R:\\27QJ5H2;R:\\73ln1M2;R:\\ATH0225</td>\n",
       "      <td>{Y2E7-P4UT29OH-0974BEHD}</td>\n",
       "      <td>PC-7844</td>\n",
       "      <td>ATH0225</td>\n",
       "    </tr>\n",
       "    <tr>\n",
       "      <th>3</th>\n",
       "      <td>Disconnect</td>\n",
       "      <td>01/21/2011 11:00:53</td>\n",
       "      <td>NaN</td>\n",
       "      <td>{C3J4-B7YG07GJ-5906YIFV}</td>\n",
       "      <td>PC-0176</td>\n",
       "      <td>OLR0348</td>\n",
       "    </tr>\n",
       "    <tr>\n",
       "      <th>4</th>\n",
       "      <td>Connect</td>\n",
       "      <td>03/02/2010 17:05:56</td>\n",
       "      <td>R:\\;R:\\75Q85F6;R:\\ZED2896</td>\n",
       "      <td>{U0P5-A7SK79FD-2677GWJO}</td>\n",
       "      <td>PC-5930</td>\n",
       "      <td>ZED2896</td>\n",
       "    </tr>\n",
       "  </tbody>\n",
       "</table>\n",
       "</div>"
      ],
      "text/plain": [
       "     activity                 date  \\\n",
       "0     Connect  06/01/2010 18:10:35   \n",
       "1  Disconnect  07/30/2010 11:19:40   \n",
       "2     Connect  03/29/2010 13:26:43   \n",
       "3  Disconnect  01/21/2011 11:00:53   \n",
       "4     Connect  03/02/2010 17:05:56   \n",
       "\n",
       "                                         file_tree                        id  \\\n",
       "0                                   R:\\;R:\\MAL1912  {M4H6-P5FR33RV-6020CMPV}   \n",
       "1                                              NaN  {K8G4-A7FO12TE-2893OGZJ}   \n",
       "2  R:\\;R:\\13x1p75;R:\\27QJ5H2;R:\\73ln1M2;R:\\ATH0225  {Y2E7-P4UT29OH-0974BEHD}   \n",
       "3                                              NaN  {C3J4-B7YG07GJ-5906YIFV}   \n",
       "4                        R:\\;R:\\75Q85F6;R:\\ZED2896  {U0P5-A7SK79FD-2677GWJO}   \n",
       "\n",
       "        pc     user  \n",
       "0  PC-3117  MAL1912  \n",
       "1  PC-7078  SIH2331  \n",
       "2  PC-7844  ATH0225  \n",
       "3  PC-0176  OLR0348  \n",
       "4  PC-5930  ZED2896  "
      ]
     },
     "execution_count": 59,
     "metadata": {},
     "output_type": "execute_result"
    }
   ],
   "source": [
    "device.head()"
   ]
  },
  {
   "cell_type": "code",
   "execution_count": 60,
   "metadata": {},
   "outputs": [
    {
     "data": {
      "text/plain": [
       "<matplotlib.axes._subplots.AxesSubplot at 0x7f55b40e6dd8>"
      ]
     },
     "execution_count": 60,
     "metadata": {},
     "output_type": "execute_result"
    },
    {
     "data": {
      "image/png": "[encoded data removed]",
      "text/plain": [
       "<Figure size 432x288 with 1 Axes>"
      ]
     },
     "metadata": {},
     "output_type": "display_data"
    }
   ],
   "source": [
    "device.groupby([\"pc\", \"user\"]).size().hist(bins=30)"
   ]
  },
  {
   "cell_type": "code",
   "execution_count": 61,
   "metadata": {},
   "outputs": [
    {
     "data": {
      "text/plain": [
       "count    2929.000000\n",
       "mean       12.802322\n",
       "std        27.733587\n",
       "min         1.000000\n",
       "25%         1.000000\n",
       "50%         4.000000\n",
       "75%        12.000000\n",
       "max      1089.000000\n",
       "dtype: float64"
      ]
     },
     "execution_count": 61,
     "metadata": {},
     "output_type": "execute_result"
    }
   ],
   "source": [
    "device.groupby([\"pc\", \"user\"]).size().describe()"
   ]
  },
  {
   "cell_type": "code",
   "execution_count": 63,
   "metadata": {},
   "outputs": [
    {
     "data": {
      "text/plain": [
       "<matplotlib.axes._subplots.AxesSubplot at 0x7f55b8017ef0>"
      ]
     },
     "execution_count": 63,
     "metadata": {},
     "output_type": "execute_result"
    },
    {
     "data": {
      "image/png": "[encoded data removed]",
      "text/plain": [
       "<Figure size 432x288 with 1 Axes>"
      ]
     },
     "metadata": {},
     "output_type": "display_data"
    }
   ],
   "source": [
    "device[[\"pc\", \"user\"]].drop_duplicates().groupby(\"pc\").size().hist(bins=30)"
   ]
  },
  {
   "cell_type": "code",
   "execution_count": 64,
   "metadata": {},
   "outputs": [],
   "source": [
    "device.date = device.date.apply(pd.to_datetime)"
   ]
  },
  {
   "cell_type": "code",
   "execution_count": 65,
   "metadata": {},
   "outputs": [],
   "source": [
    "device['day_of_week'] = device['date'].dt.day_name()\n",
    "device['is_weekend'] = device['day_of_week'].apply(lambda x: \"Y\" if x in [\"Sunday\", \"Saturday\"] else \"N\")\n",
    "device['hour'] = device['date'].dt.hour"
   ]
  },
  {
   "cell_type": "code",
   "execution_count": 66,
   "metadata": {},
   "outputs": [
    {
     "data": {
      "text/plain": [
       "array(['Tuesday', 'Friday', 'Monday', 'Thursday', 'Wednesday', 'Sunday',\n",
       "       'Saturday'], dtype=object)"
      ]
     },
     "execution_count": 66,
     "metadata": {},
     "output_type": "execute_result"
    }
   ],
   "source": [
    "device['day_of_week'].unique()"
   ]
  },
  {
   "cell_type": "code",
   "execution_count": 68,
   "metadata": {},
   "outputs": [
    {
     "data": {
      "text/plain": [
       "<matplotlib.axes._subplots.AxesSubplot at 0x7f55b80d7358>"
      ]
     },
     "execution_count": 68,
     "metadata": {},
     "output_type": "execute_result"
    },
    {
     "data": {
      "image/png": "[encoded data removed]",
      "text/plain": [
       "<Figure size 432x288 with 1 Axes>"
      ]
     },
     "metadata": {},
     "output_type": "display_data"
    }
   ],
   "source": [
    "order = ['Monday', 'Tuesday', 'Wednesday','Thursday','Friday','Saturday','Sunday']\n",
    "device[device.activity == \"Connect\"].groupby(\"day_of_week\").size().loc[order].plot(kind=\"bar\")"
   ]
  },
  {
   "cell_type": "code",
   "execution_count": 70,
   "metadata": {},
   "outputs": [
    {
     "data": {
      "text/plain": [
       "<matplotlib.axes._subplots.AxesSubplot at 0x7f55e2144f98>"
      ]
     },
     "execution_count": 70,
     "metadata": {},
     "output_type": "execute_result"
    },
    {
     "data": {
      "image/png": "[encoded data removed]",
      "text/plain": [
       "<Figure size 432x288 with 1 Axes>"
      ]
     },
     "metadata": {},
     "output_type": "display_data"
    }
   ],
   "source": [
    "device.groupby(\"hour\").size().plot(kind=\"bar\")"
   ]
  },
  {
   "cell_type": "code",
   "execution_count": 72,
   "metadata": {},
   "outputs": [
    {
     "data": {
      "text/plain": [
       "<matplotlib.axes._subplots.AxesSubplot at 0x7f5b7413bc50>"
      ]
     },
     "execution_count": 72,
     "metadata": {},
     "output_type": "execute_result"
    },
    {
     "data": {
      "image/png": "[encoded data removed]",
      "text/plain": [
       "<Figure size 432x288 with 1 Axes>"
      ]
     },
     "metadata": {},
     "output_type": "display_data"
    }
   ],
   "source": [
    "sns.countplot(x=\"hour\", hue=\"is_weekend\", data=device[device.activity == \"Connect\"])"
   ]
  },
  {
   "cell_type": "code",
   "execution_count": 87,
   "metadata": {},
   "outputs": [
    {
     "data": {
      "text/plain": [
       "array(['R'], dtype=object)"
      ]
     },
     "execution_count": 87,
     "metadata": {},
     "output_type": "execute_result"
    }
   ],
   "source": [
    "device.file_tree.dropna().str.split(\",\").apply(lambda x: \",\".join([p[0] for p in x])).unique()"
   ]
  },
  {
   "cell_type": "code",
   "execution_count": null,
   "metadata": {},
   "outputs": [],
   "source": []
  }
 ],
 "metadata": {
  "kernelspec": {
   "display_name": "Python 3 Spark - local",
   "language": "python",
   "name": "spark-3-python"
  },
  "language_info": {
   "codemirror_mode": {
    "name": "ipython",
    "version": 3
   },
   "file_extension": ".py",
   "mimetype": "text/x-python",
   "name": "python",
   "nbconvert_exporter": "python",
   "pygments_lexer": "ipython3",
   "version": "3.5.5"
  }
 },
 "nbformat": 4,
 "nbformat_minor": 2
}
